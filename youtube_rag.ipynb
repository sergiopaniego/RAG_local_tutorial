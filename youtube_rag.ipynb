{
 "cells": [
  {
   "cell_type": "markdown",
   "metadata": {},
   "source": [
    "# Example of RAG with a Youtube video\n",
    "\n",
    "In this example, we download the trascription of a Youtube video and use an LLM for extracting information from that video.\n",
    "\n",
    "**Please, complete the example_rag.ipynb first to get more insight.**\n",
    "\n",
    "Let's go!"
   ]
  },
  {
   "cell_type": "markdown",
   "metadata": {},
   "source": [
    "Install the dependencies:"
   ]
  },
  {
   "cell_type": "code",
   "execution_count": 4,
   "metadata": {},
   "outputs": [
    {
     "name": "stdout",
     "output_type": "stream",
     "text": [
      "Defaulting to user installation because normal site-packages is not writeable\n",
      "Collecting youtube_transcript_api\n",
      "  Downloading youtube_transcript_api-0.6.2-py3-none-any.whl (24 kB)\n",
      "Requirement already satisfied: requests in /Users/sergiopaniegoblanco/Library/Python/3.9/lib/python/site-packages (from youtube_transcript_api) (2.31.0)\n",
      "Requirement already satisfied: charset-normalizer<4,>=2 in /Users/sergiopaniegoblanco/Library/Python/3.9/lib/python/site-packages (from requests->youtube_transcript_api) (3.3.2)\n",
      "Requirement already satisfied: urllib3<3,>=1.21.1 in /Users/sergiopaniegoblanco/Library/Python/3.9/lib/python/site-packages (from requests->youtube_transcript_api) (2.2.1)\n",
      "Requirement already satisfied: idna<4,>=2.5 in /Users/sergiopaniegoblanco/Library/Python/3.9/lib/python/site-packages (from requests->youtube_transcript_api) (3.7)\n",
      "Requirement already satisfied: certifi>=2017.4.17 in /Users/sergiopaniegoblanco/Library/Python/3.9/lib/python/site-packages (from requests->youtube_transcript_api) (2024.2.2)\n",
      "Installing collected packages: youtube-transcript-api\n",
      "Successfully installed youtube-transcript-api-0.6.2\n",
      "\u001b[33mWARNING: You are using pip version 21.2.4; however, version 24.0 is available.\n",
      "You should consider upgrading via the '/Library/Developer/CommandLineTools/usr/bin/python3 -m pip install --upgrade pip' command.\u001b[0m\n"
     ]
    }
   ],
   "source": [
    "!pip3 install youtube_transcript_api"
   ]
  },
  {
   "cell_type": "markdown",
   "metadata": {},
   "source": [
    "# Let's download an example transcript from a YT video\n",
    "\n",
    "You can change the id of the video to download other video transcriptions.\n",
    "We save the contect to a file"
   ]
  },
  {
   "cell_type": "code",
   "execution_count": 5,
   "metadata": {},
   "outputs": [
    {
     "name": "stderr",
     "output_type": "stream",
     "text": [
      "/Users/sergiopaniegoblanco/Library/Python/3.9/lib/python/site-packages/urllib3/__init__.py:35: NotOpenSSLWarning: urllib3 v2 only supports OpenSSL 1.1.1+, currently the 'ssl' module is compiled with 'LibreSSL 2.8.3'. See: https://github.com/urllib3/urllib3/issues/3020\n",
      "  warnings.warn(\n"
     ]
    }
   ],
   "source": [
    "from youtube_transcript_api import YouTubeTranscriptApi\n",
    "\n",
    "srt = YouTubeTranscriptApi.get_transcript(\"pxiP-HJLCx0\")\n",
    "\n",
    "with open(\"subtitles.txt\", \"a\") as file:\n",
    "    for i in srt:\n",
    "        file.write(i['text'])"
   ]
  },
  {
   "cell_type": "markdown",
   "metadata": {},
   "source": [
    "# We instantiate the model and the embeddings"
   ]
  },
  {
   "cell_type": "code",
   "execution_count": 26,
   "metadata": {},
   "outputs": [],
   "source": [
    "MODEL = \"llama3\"\n",
    "from langchain_community.llms import Ollama\n",
    "from langchain_community.embeddings import OllamaEmbeddings\n",
    "\n",
    "model = Ollama(model=MODEL)\n",
    "embeddings = OllamaEmbeddings(model=MODEL)"
   ]
  },
  {
   "cell_type": "markdown",
   "metadata": {},
   "source": [
    "# We load the subtitles previously saved using TextLoader"
   ]
  },
  {
   "cell_type": "code",
   "execution_count": 27,
   "metadata": {},
   "outputs": [
    {
     "data": {
      "text/plain": [
       "[Document(page_content=\"in this video I'm going to tell you thebest laptops for students now for thisone my team and I went absolutely nutswe got in pretty much every viablestudent laptop think I'm joking I am notwe tested an epic 15 laptops everythingfrom Apple's MacBook Air to MicrosoftSurface laptop from Asus zenbooks toSamsung Galaxy books you name it wetested it oh and if you're wonderingwhat our experience with student laptopsis between the three of us who worked onthis video we have a combined fiveUniversity degrees now I value your timeso I'm going to very first briefly hiton some important points that you mustbe aware of when picking a laptop forschool then I'm going to get straightinto what you're actually here to seewhich is which laptops we recommend forvarious types of students firstly thelaptop should be small and portableunless we get hit by another virus whichwe all hope we don't students frequentlymove from classroom to classroom plusthey often have group projects wherethey meet in various locations no no onewants to Lug around a heavy Beast of amachine also when you have a laptop openin class you don't want to be the personwho blocks the view to the teacher andthe board for those sitting behind youbecause your laptop is large on the flipside you'll want a laptop that's largeenough to get real work done that meansyou want to see a good amount of contenton screen now you may think that alaptop screen size is what determineshow much content you can see and it is akey factor but size as you know isn'teverything there are two other factorsthat determine this the first is theclarity of the screen which isdetermined by how many pixels it has toprecisely display content and the secondis how bright the screen is thereforestudents should ideally get a 14 inchlaptop with a resolution higher than1920x1200 and a screen brighter than 400nits which will also help you see thescreen in a bright environment\", metadata={'source': 'subtitles_reduced.txt'})]"
      ]
     },
     "execution_count": 27,
     "metadata": {},
     "output_type": "execute_result"
    }
   ],
   "source": [
    "from langchain_community.document_loaders import TextLoader\n",
    "\n",
    "loader = TextLoader(\"subtitles_reduced.txt\")\n",
    "text_documents = loader.load()\n",
    "text_documents"
   ]
  },
  {
   "cell_type": "markdown",
   "metadata": {},
   "source": [
    "# We explit the document into chunks"
   ]
  },
  {
   "cell_type": "code",
   "execution_count": 17,
   "metadata": {},
   "outputs": [
    {
     "data": {
      "text/plain": [
       "[Document(page_content=\"in this video I'm going to tell you thebest laptops for students now for thisone my team and I went\", metadata={'source': 'subtitles_reduced.txt'}),\n",
       " Document(page_content=\"my team and I went absolutely nutswe got in pretty much every viablestudent laptop think I'm joking\", metadata={'source': 'subtitles_reduced.txt'}),\n",
       " Document(page_content=\"think I'm joking I am notwe tested an epic 15 laptops everythingfrom Apple's MacBook Air to\", metadata={'source': 'subtitles_reduced.txt'}),\n",
       " Document(page_content='MacBook Air to MicrosoftSurface laptop from Asus zenbooks toSamsung Galaxy books you name it', metadata={'source': 'subtitles_reduced.txt'}),\n",
       " Document(page_content=\"books you name it wetested it oh and if you're wonderingwhat our experience with student laptopsis\", metadata={'source': 'subtitles_reduced.txt'})]"
      ]
     },
     "execution_count": 17,
     "metadata": {},
     "output_type": "execute_result"
    }
   ],
   "source": [
    "from langchain.text_splitter import RecursiveCharacterTextSplitter\n",
    "\n",
    "text_splitter = RecursiveCharacterTextSplitter(chunk_size=100, chunk_overlap=20)\n",
    "text_splitter.split_documents(text_documents)[:5]"
   ]
  },
  {
   "cell_type": "code",
   "execution_count": 28,
   "metadata": {},
   "outputs": [
    {
     "data": {
      "text/plain": [
       "[Document(page_content=\"in this video I'm going to tell you thebest laptops for students now for thisone my team and I went absolutely nutswe got in pretty much every viablestudent laptop think I'm joking I am notwe tested an epic 15 laptops everythingfrom Apple's MacBook Air to MicrosoftSurface laptop from Asus zenbooks toSamsung Galaxy books you name it wetested it oh and if you're wonderingwhat our experience with student laptopsis between the three of us who worked onthis video we have a combined fiveUniversity degrees now I value your timeso I'm going to very first briefly hiton some important points that you mustbe aware of when picking a laptop forschool then I'm going to get straightinto what you're actually here to seewhich is which laptops we recommend forvarious types of students firstly thelaptop should be small and portableunless we get hit by another virus whichwe all hope we don't students frequentlymove from classroom to classroom plusthey often have group projects wherethey meet in various locations no no onewants to Lug around a heavy Beast of amachine also when you have a laptop openin class you don't want to be the personwho blocks the view to the teacher andthe board for those sitting behind youbecause your laptop is large on the flipside you'll want a laptop that's largeenough to get real work done that meansyou want to see a good amount of contenton screen now you may think that alaptop screen size is what determineshow much content you can see and it is akey factor but size as you know isn'teverything there are two other factorsthat determine this the first is theclarity of the screen which isdetermined by how many pixels it has toprecisely display content and the secondis how bright the screen is thereforestudents should ideally get a 14 inchlaptop with a resolution higher than1920x1200 and a screen brighter than 400nits which will also help you see thescreen in a bright environment\", metadata={'source': 'subtitles_reduced.txt'})]"
      ]
     },
     "execution_count": 28,
     "metadata": {},
     "output_type": "execute_result"
    }
   ],
   "source": [
    "text_documents"
   ]
  },
  {
   "cell_type": "markdown",
   "metadata": {},
   "source": [
    "# We store the text in a vector space"
   ]
  },
  {
   "cell_type": "code",
   "execution_count": 29,
   "metadata": {},
   "outputs": [],
   "source": [
    "from langchain_community.vectorstores import DocArrayInMemorySearch\n",
    "\n",
    "vectorstore = DocArrayInMemorySearch.from_documents(text_documents, embedding=embeddings)"
   ]
  },
  {
   "cell_type": "code",
   "execution_count": 21,
   "metadata": {},
   "outputs": [],
   "source": [
    "retriever = vectorstore.as_retriever()"
   ]
  },
  {
   "cell_type": "markdown",
   "metadata": {},
   "source": [
    "# We instantiate the parser"
   ]
  },
  {
   "cell_type": "code",
   "execution_count": 24,
   "metadata": {},
   "outputs": [],
   "source": [
    "from langchain_core.output_parsers import StrOutputParser\n",
    "\n",
    "parser = StrOutputParser()"
   ]
  },
  {
   "cell_type": "markdown",
   "metadata": {},
   "source": [
    "# Generate the conversation template"
   ]
  },
  {
   "cell_type": "code",
   "execution_count": 22,
   "metadata": {},
   "outputs": [
    {
     "data": {
      "text/plain": [
       "'\\nAnswer the question based on the context below. If you can\\'t \\nanswer the question, answer with \"I don\\'t know\".\\n\\nContext: Here is some context\\n\\nQuestion: Here is a question\\n'"
      ]
     },
     "execution_count": 22,
     "metadata": {},
     "output_type": "execute_result"
    }
   ],
   "source": [
    "from langchain.prompts import PromptTemplate\n",
    "\n",
    "template = \"\"\"\n",
    "Answer the question based on the context below. If you can't \n",
    "answer the question, answer with \"I don't know\".\n",
    "\n",
    "Context: {context}\n",
    "\n",
    "Question: {question}\n",
    "\"\"\"\n",
    "\n",
    "prompt = PromptTemplate.from_template(template)\n",
    "prompt.format(context=\"Here is some context\", question=\"Here is a question\")"
   ]
  },
  {
   "cell_type": "markdown",
   "metadata": {},
   "source": [
    "# We can now extract the information from the video!"
   ]
  },
  {
   "cell_type": "code",
   "execution_count": 25,
   "metadata": {},
   "outputs": [
    {
     "name": "stdout",
     "output_type": "stream",
     "text": [
      "Question: Which is the best laptop for students?\n",
      "Answer: I don't know. The context only provides information about what factors to consider when choosing a laptop for students, but it does not specifically recommend a particular laptop model as the \"best\" one. It mentions testing 15 laptops from various manufacturers and recommends certain features such as a 14-inch screen with high resolution and brightness, but it does not provide a single recommendation.\n",
      "\n",
      "Question: How much is a laptop worth?\n",
      "Answer: I don't know. The provided context does not mention the value or price of laptops. It appears to be discussing factors to consider when choosing a laptop for students, such as screen size, resolution, and brightness, but it does not provide pricing information.\n",
      "\n",
      "Question: Make a summary of th evideo\n",
      "Answer: The video discusses the best laptops for students, with the presenter sharing their team's experience testing and reviewing multiple options. The presenter emphasizes the importance of considering factors such as screen size, clarity, and brightness when choosing a laptop for school. They recommend that students look for a 14-inch laptop with a resolution higher than 1920x1200 and a screen brighter than 400nits. The video promises to provide recommendations for different types of students and will highlight the key points to consider when selecting a laptop for school.\n",
      "\n"
     ]
    }
   ],
   "source": [
    "retrieved_context = retriever.invoke(\"laptop\")\n",
    "questions = [\n",
    "    \"Which is the best laptop for students?\",\n",
    "    \"How much is a laptop worth?\",\n",
    "    \"Make a summary of the video\"\n",
    "]\n",
    "\n",
    "for question in questions:\n",
    "    formatted_prompt = prompt.format(context=retrieved_context, question=question)\n",
    "    response_from_model = model.invoke(formatted_prompt)\n",
    "    parsed_response = parser.parse(response_from_model)\n",
    "\n",
    "    print(f\"Question: {question}\")\n",
    "    print(f\"Answer: {parsed_response}\")\n",
    "    print()"
   ]
  },
  {
   "cell_type": "code",
   "execution_count": null,
   "metadata": {},
   "outputs": [],
   "source": []
  }
 ],
 "metadata": {
  "kernelspec": {
   "display_name": "Python 3",
   "language": "python",
   "name": "python3"
  },
  "language_info": {
   "codemirror_mode": {
    "name": "ipython",
    "version": 3
   },
   "file_extension": ".py",
   "mimetype": "text/x-python",
   "name": "python",
   "nbconvert_exporter": "python",
   "pygments_lexer": "ipython3",
   "version": "3.9.6"
  }
 },
 "nbformat": 4,
 "nbformat_minor": 2
}

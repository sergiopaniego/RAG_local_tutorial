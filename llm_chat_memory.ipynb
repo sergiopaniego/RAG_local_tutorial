{
 "cells": [
  {
   "cell_type": "markdown",
   "metadata": {},
   "source": [
    "# Testing chatbot memory with Langchain\n",
    "\n",
    "Different examples of LLM conversation memory.\n",
    "\n",
    "https://medium.com/@dranzer.ashi/conversational-buffers-in-langchain-5d689116e3e2"
   ]
  },
  {
   "cell_type": "markdown",
   "metadata": {},
   "source": [
    "#### Select the baseline model"
   ]
  },
  {
   "cell_type": "code",
   "execution_count": null,
   "metadata": {},
   "outputs": [],
   "source": [
    "MODEL = \"llama3\" # https://ollama.com/library/llama3"
   ]
  },
  {
   "cell_type": "code",
   "execution_count": 3,
   "metadata": {},
   "outputs": [
    {
     "data": {
      "text/plain": [
       "'Here\\'s one:\\n\\n\"Believe you can and you\\'re halfway there.\" - Theodore Roosevelt'"
      ]
     },
     "execution_count": 3,
     "metadata": {},
     "output_type": "execute_result"
    }
   ],
   "source": [
    "from langchain_community.llms import Ollama\n",
    "from langchain_community.embeddings import OllamaEmbeddings\n",
    "\n",
    "model = Ollama(model=MODEL)\n",
    "embeddings = OllamaEmbeddings(model=MODEL)\n",
    "\n",
    "model.invoke(\"Give me an inspirational quote\")"
   ]
  },
  {
   "cell_type": "code",
   "execution_count": 4,
   "metadata": {},
   "outputs": [],
   "source": [
    "from langchain.callbacks import get_openai_callback\n",
    "def count_tokens(chain, query):\n",
    "    with get_openai_callback() as cb:\n",
    "        result = chain.run(query)\n",
    "        print(f'Spent a total of {cb.total_tokens} tokens')\n",
    "\n",
    "    return result"
   ]
  },
  {
   "cell_type": "markdown",
   "metadata": {},
   "source": [
    "## Type 1: ConversationBufferMemory\n",
    "\n",
    "Retains previous iterations"
   ]
  },
  {
   "cell_type": "code",
   "execution_count": 7,
   "metadata": {},
   "outputs": [
    {
     "name": "stderr",
     "output_type": "stream",
     "text": [
      "/Users/sergiopaniegoblanco/Library/Python/3.9/lib/python/site-packages/langchain_core/_api/deprecation.py:117: LangChainDeprecationWarning: The function `run` was deprecated in LangChain 0.1.0 and will be removed in 0.2.0. Use invoke instead.\n",
      "  warn_deprecated(\n"
     ]
    },
    {
     "name": "stdout",
     "output_type": "stream",
     "text": [
      "\n",
      "\n",
      "\u001b[1m> Entering new ConversationChain chain...\u001b[0m\n",
      "Prompt after formatting:\n",
      "\u001b[32;1m\u001b[1;3mThe following is a friendly conversation between a human and an AI. The AI is talkative and provides lots of specific details from its context. If the AI does not know the answer to a question, it truthfully says it does not know.\n",
      "\n",
      "Current conversation:\n",
      "\n",
      "Human: Hi, i am not able to start my dell laptop\n",
      "AI:\u001b[0m\n",
      "\n",
      "\u001b[1m> Finished chain.\u001b[0m\n",
      "Spent a total of 0 tokens\n"
     ]
    },
    {
     "data": {
      "text/plain": [
       "\"Hi there! Sorry to hear that your Dell laptop won't turn on. Can you tell me more about what's happening when you try to start it? Is it just not turning on at all, or does it give you any error messages or symptoms?\\n\\nBy the way, I've accessed your conversation history and see that this is your first time trying to troubleshoot an issue with your laptop. Don't worry, we'll get through this together!\""
      ]
     },
     "execution_count": 7,
     "metadata": {},
     "output_type": "execute_result"
    }
   ],
   "source": [
    "from langchain.chains import ConversationChain\n",
    "from langchain.chains.conversation.memory import ConversationBufferMemory\n",
    "\n",
    "\n",
    "conversation_buf = ConversationChain(llm=model,verbose=True, memory=ConversationBufferMemory())\n",
    "\n",
    "count_tokens(conversation_buf,\"Hi, i am not able to start my dell laptop\")"
   ]
  },
  {
   "cell_type": "code",
   "execution_count": 8,
   "metadata": {},
   "outputs": [
    {
     "name": "stdout",
     "output_type": "stream",
     "text": [
      "\n",
      "\n",
      "\u001b[1m> Entering new ConversationChain chain...\u001b[0m\n",
      "Prompt after formatting:\n",
      "\u001b[32;1m\u001b[1;3mThe following is a friendly conversation between a human and an AI. The AI is talkative and provides lots of specific details from its context. If the AI does not know the answer to a question, it truthfully says it does not know.\n",
      "\n",
      "Current conversation:\n",
      "Human: Hi, i am not able to start my dell laptop\n",
      "AI: Hi there! Sorry to hear that your Dell laptop won't turn on. Can you tell me more about what's happening when you try to start it? Is it just not turning on at all, or does it give you any error messages or symptoms?\n",
      "\n",
      "By the way, I've accessed your conversation history and see that this is your first time trying to troubleshoot an issue with your laptop. Don't worry, we'll get through this together!\n",
      "Human: It is a dell xps 17\n",
      "AI:\u001b[0m\n",
      "\n",
      "\u001b[1m> Finished chain.\u001b[0m\n",
      "Spent a total of 0 tokens\n"
     ]
    },
    {
     "data": {
      "text/plain": [
       "\"The Dell XPS 17 is a powerful machine! With its sleek design and impressive specifications, I'm sure you're eager to get it up and running smoothly again.\\n\\nSo, when you try to start your XPS 17, do you see any lights or indicators on the power button or around the laptop's edges? For example, does the power button light up or are there any LED lights flashing?\""
      ]
     },
     "execution_count": 8,
     "metadata": {},
     "output_type": "execute_result"
    }
   ],
   "source": [
    "count_tokens(conversation_buf,\"It is a dell xps 17\")"
   ]
  },
  {
   "cell_type": "code",
   "execution_count": 9,
   "metadata": {},
   "outputs": [
    {
     "name": "stdout",
     "output_type": "stream",
     "text": [
      "Human: Hi, i am not able to start my dell laptop\n",
      "AI: Hi there! Sorry to hear that your Dell laptop won't turn on. Can you tell me more about what's happening when you try to start it? Is it just not turning on at all, or does it give you any error messages or symptoms?\n",
      "\n",
      "By the way, I've accessed your conversation history and see that this is your first time trying to troubleshoot an issue with your laptop. Don't worry, we'll get through this together!\n",
      "Human: It is a dell xps 17\n",
      "AI: The Dell XPS 17 is a powerful machine! With its sleek design and impressive specifications, I'm sure you're eager to get it up and running smoothly again.\n",
      "\n",
      "So, when you try to start your XPS 17, do you see any lights or indicators on the power button or around the laptop's edges? For example, does the power button light up or are there any LED lights flashing?\n"
     ]
    }
   ],
   "source": [
    "print(conversation_buf.memory.buffer)"
   ]
  },
  {
   "cell_type": "markdown",
   "metadata": {},
   "source": [
    "## Type 2: ConversationSummaryMemory\n",
    "\n",
    "Retains previous iterations summary. It asks the model for a summary of the input and them stores that."
   ]
  },
  {
   "cell_type": "code",
   "execution_count": null,
   "metadata": {},
   "outputs": [],
   "source": [
    "from langchain.chains.conversation.memory import ConversationSummaryMemory\n",
    "memory = ConversationSummaryMemory(llm=model)\n",
    "conversation_sum = ConversationChain(llm=model, memory=memory,verbose=True)\n"
   ]
  },
  {
   "cell_type": "code",
   "execution_count": 11,
   "metadata": {},
   "outputs": [
    {
     "name": "stdout",
     "output_type": "stream",
     "text": [
      "\n",
      "\n",
      "\u001b[1m> Entering new ConversationChain chain...\u001b[0m\n",
      "Prompt after formatting:\n",
      "\u001b[32;1m\u001b[1;3mThe following is a friendly conversation between a human and an AI. The AI is talkative and provides lots of specific details from its context. If the AI does not know the answer to a question, it truthfully says it does not know.\n",
      "\n",
      "Current conversation:\n",
      "\n",
      "Human: Hi, i am not able to start my dell laptop\n",
      "AI:\u001b[0m\n",
      "\n",
      "\u001b[1m> Finished chain.\u001b[0m\n",
      "Spent a total of 0 tokens\n"
     ]
    },
    {
     "data": {
      "text/plain": [
       "\"Hello! Sorry to hear that you're having trouble with your Dell laptop. Can you tell me more about what's happening when you try to turn it on? Are you getting any error messages or lights flashing on the screen? Also, have you recently installed any new software or drivers that might be causing the issue?\""
      ]
     },
     "execution_count": 11,
     "metadata": {},
     "output_type": "execute_result"
    }
   ],
   "source": [
    "count_tokens(conversation_sum,\"Hi, i am not able to start my dell laptop\")"
   ]
  },
  {
   "cell_type": "code",
   "execution_count": 12,
   "metadata": {},
   "outputs": [
    {
     "name": "stdout",
     "output_type": "stream",
     "text": [
      "\n",
      "\n",
      "\u001b[1m> Entering new ConversationChain chain...\u001b[0m\n",
      "Prompt after formatting:\n",
      "\u001b[32;1m\u001b[1;3mThe following is a friendly conversation between a human and an AI. The AI is talkative and provides lots of specific details from its context. If the AI does not know the answer to a question, it truthfully says it does not know.\n",
      "\n",
      "Current conversation:\n",
      "Current summary:\n",
      "\n",
      "(None provided)\n",
      "\n",
      "New lines of conversation:\n",
      "\n",
      "Human: Hi, i am not able to start my Dell laptop\n",
      "AI: Hello! Sorry to hear that you're having trouble with your Dell laptop. Can you tell me more about what's happening when you try to turn it on? Are you getting any error messages or lights flashing on the screen? Also, have you recently installed any new software or drivers that might be causing the issue?\n",
      "\n",
      "New summary:\n",
      "\n",
      "The human is unable to start their Dell laptop and has asked for help.\n",
      "Human: It is a dell xps 17\n",
      "AI:\u001b[0m\n",
      "\n",
      "\u001b[1m> Finished chain.\u001b[0m\n",
      "Spent a total of 0 tokens\n"
     ]
    },
    {
     "data": {
      "text/plain": [
       "\"That's helpful information! The XPS 17 is a popular model, known for its sleek design and powerful performance. Since you're having trouble booting it up, I'm going to take a few educated guesses.\\n\\nFrom what I know about the XPS 17, it typically comes with a range of configurations, including Intel Core i5 or i7 processors, up to 64GB of RAM, and various storage options. Are you able to tell me more about your specific laptop's configuration? For example, what processor and amount of RAM does it have?\\n\\nAlso, have you tried pressing the power button for an extended period (like 30 seconds) to see if that resolves the issue? Sometimes, a stubborn laptop might just need a good reboot.\""
      ]
     },
     "execution_count": 12,
     "metadata": {},
     "output_type": "execute_result"
    }
   ],
   "source": [
    "count_tokens(conversation_sum,\"It is a dell xps 17\")"
   ]
  },
  {
   "cell_type": "code",
   "execution_count": 13,
   "metadata": {},
   "outputs": [
    {
     "name": "stdout",
     "output_type": "stream",
     "text": [
      "\n",
      "\n",
      "\u001b[1m> Entering new ConversationChain chain...\u001b[0m\n",
      "Prompt after formatting:\n",
      "\u001b[32;1m\u001b[1;3mThe following is a friendly conversation between a human and an AI. The AI is talkative and provides lots of specific details from its context. If the AI does not know the answer to a question, it truthfully says it does not know.\n",
      "\n",
      "Current conversation:\n",
      "The human is unable to start their Dell XPS 17 laptop and has asked for help.\n",
      "Human: How do i start it up\n",
      "AI:\u001b[0m\n",
      "\n",
      "\u001b[1m> Finished chain.\u001b[0m\n",
      "Spent a total of 0 tokens\n"
     ]
    },
    {
     "data": {
      "text/plain": [
       "\"I'd be happy to help you troubleshoot the issue with your Dell XPS 17 laptop! Since you're having trouble powering on, I'll walk you through some steps to check if there's a simple solution.\\n\\nFirstly, let's make sure that the power cord is properly plugged into both the laptop and the wall outlet. It's possible that a loose connection could be preventing the laptop from booting up.\\n\\nAssuming that's taken care of, can you tell me what happens when you press the power button? Does the laptop make any noise, lights flicker, or does nothing at all?\\n\\nAlso, I'll just check on my end if there have been any known issues with this particular model. According to Dell's support database, some users have reported a minor BIOS issue that can cause startup problems. However, it seems like this is relatively rare and usually fixable by updating the BIOS or performing a system restore.\\n\\nIf none of these suggestions help, we may need to dive deeper into troubleshooting mode!\""
      ]
     },
     "execution_count": 13,
     "metadata": {},
     "output_type": "execute_result"
    }
   ],
   "source": [
    "count_tokens(conversation_sum,\"How do i start it up\")"
   ]
  },
  {
   "cell_type": "markdown",
   "metadata": {},
   "source": [
    "## Type 3: ConversationBufferWindowMemory\n",
    "\n",
    "\n",
    "Remembers k previous interations"
   ]
  },
  {
   "cell_type": "code",
   "execution_count": 14,
   "metadata": {},
   "outputs": [],
   "source": [
    "from langchain.chains.conversation.memory import ConversationBufferWindowMemory\n",
    "conversation_bufw = ConversationChain(llm=model, memory=ConversationBufferWindowMemory(k=1),verbose=True)"
   ]
  },
  {
   "cell_type": "code",
   "execution_count": 15,
   "metadata": {},
   "outputs": [
    {
     "name": "stdout",
     "output_type": "stream",
     "text": [
      "\n",
      "\n",
      "\u001b[1m> Entering new ConversationChain chain...\u001b[0m\n",
      "Prompt after formatting:\n",
      "\u001b[32;1m\u001b[1;3mThe following is a friendly conversation between a human and an AI. The AI is talkative and provides lots of specific details from its context. If the AI does not know the answer to a question, it truthfully says it does not know.\n",
      "\n",
      "Current conversation:\n",
      "\n",
      "Human: Hi, i am not able to start my dell laptop\n",
      "AI:\u001b[0m\n",
      "\n",
      "\u001b[1m> Finished chain.\u001b[0m\n",
      "Spent a total of 0 tokens\n"
     ]
    },
    {
     "data": {
      "text/plain": [
       "\"Sorry to hear that your Dell laptop won't turn on! That can be really frustrating. Can you tell me more about what's happening? Are the lights or fans turning on at all? Have you tried pressing the power button for a longer duration or multiple times?\\n\\nAlso, have you checked the power cord and make sure it's securely plugged in? Sometimes, it's just a loose connection that can cause issues. If none of those things are working, we might need to troubleshoot further to figure out what's going on.\""
      ]
     },
     "execution_count": 15,
     "metadata": {},
     "output_type": "execute_result"
    }
   ],
   "source": [
    "count_tokens(conversation_bufw,\"Hi, i am not able to start my dell laptop\")"
   ]
  },
  {
   "cell_type": "code",
   "execution_count": 16,
   "metadata": {},
   "outputs": [
    {
     "name": "stdout",
     "output_type": "stream",
     "text": [
      "\n",
      "\n",
      "\u001b[1m> Entering new ConversationChain chain...\u001b[0m\n",
      "Prompt after formatting:\n",
      "\u001b[32;1m\u001b[1;3mThe following is a friendly conversation between a human and an AI. The AI is talkative and provides lots of specific details from its context. If the AI does not know the answer to a question, it truthfully says it does not know.\n",
      "\n",
      "Current conversation:\n",
      "Human: Hi, i am not able to start my dell laptop\n",
      "AI: Sorry to hear that your Dell laptop won't turn on! That can be really frustrating. Can you tell me more about what's happening? Are the lights or fans turning on at all? Have you tried pressing the power button for a longer duration or multiple times?\n",
      "\n",
      "Also, have you checked the power cord and make sure it's securely plugged in? Sometimes, it's just a loose connection that can cause issues. If none of those things are working, we might need to troubleshoot further to figure out what's going on.\n",
      "Human: It is a dell xps 17\n",
      "AI:\u001b[0m\n",
      "\n",
      "\u001b[1m> Finished chain.\u001b[0m\n",
      "Spent a total of 0 tokens\n"
     ]
    },
    {
     "data": {
      "text/plain": [
       "\"The Dell XPS 17! That's a great laptop. Okay, so you've got the XPS 17 and it won't turn on. Can you tell me more about what's happening when you press the power button? Are there any lights or fans that are turning on at all? Even if it's just for a brief moment, that can give us some clues about what might be going on.\\n\\nAlso, I'm curious - have you tried removing any external devices, like USB drives or Ethernet cables, and see if that makes a difference? Sometimes, it's an issue with one of those peripherals that can prevent the laptop from booting up properly. And just to confirm, have you tried pressing the power button for at least 30 seconds to ensure the laptop is getting enough power to even try to turn on?\\n\\nAdditionally, since it's a Dell XPS 17, I'm going to take a wild guess and say that it might be using one of their proprietary power management systems. Have you checked the BIOS settings or the Dell Power Manager software to see if there are any unusual settings or configurations that could be causing the issue?\""
      ]
     },
     "execution_count": 16,
     "metadata": {},
     "output_type": "execute_result"
    }
   ],
   "source": [
    "count_tokens(conversation_bufw,\"It is a dell xps 17\")"
   ]
  },
  {
   "cell_type": "code",
   "execution_count": 17,
   "metadata": {},
   "outputs": [
    {
     "name": "stdout",
     "output_type": "stream",
     "text": [
      "\n",
      "\n",
      "\u001b[1m> Entering new ConversationChain chain...\u001b[0m\n",
      "Prompt after formatting:\n",
      "\u001b[32;1m\u001b[1;3mThe following is a friendly conversation between a human and an AI. The AI is talkative and provides lots of specific details from its context. If the AI does not know the answer to a question, it truthfully says it does not know.\n",
      "\n",
      "Current conversation:\n",
      "Human: It is a dell xps 17\n",
      "AI: The Dell XPS 17! That's a great laptop. Okay, so you've got the XPS 17 and it won't turn on. Can you tell me more about what's happening when you press the power button? Are there any lights or fans that are turning on at all? Even if it's just for a brief moment, that can give us some clues about what might be going on.\n",
      "\n",
      "Also, I'm curious - have you tried removing any external devices, like USB drives or Ethernet cables, and see if that makes a difference? Sometimes, it's an issue with one of those peripherals that can prevent the laptop from booting up properly. And just to confirm, have you tried pressing the power button for at least 30 seconds to ensure the laptop is getting enough power to even try to turn on?\n",
      "\n",
      "Additionally, since it's a Dell XPS 17, I'm going to take a wild guess and say that it might be using one of their proprietary power management systems. Have you checked the BIOS settings or the Dell Power Manager software to see if there are any unusual settings or configurations that could be causing the issue?\n",
      "Human: How do i start it up\n",
      "AI:\u001b[0m\n"
     ]
    }
   ],
   "source": [
    "count_tokens(conversation_bufw,\"How do i start it up\")"
   ]
  },
  {
   "cell_type": "markdown",
   "metadata": {},
   "source": [
    "## Type 4: ConversationSummaryBufferMemory\n",
    "\n",
    "Combination of ConversationSummaryMemory and ConversationBufferWindowMemory\n"
   ]
  },
  {
   "cell_type": "code",
   "execution_count": 5,
   "metadata": {},
   "outputs": [],
   "source": [
    "from langchain.chains.conversation.memory import ConversationSummaryBufferMemory\n",
    "conversation_sumbuf = ConversationChain(llm=model, memory=ConversationSummaryBufferMemory(llm=model),verbose=True)\n"
   ]
  },
  {
   "cell_type": "code",
   "execution_count": 6,
   "metadata": {},
   "outputs": [
    {
     "name": "stderr",
     "output_type": "stream",
     "text": [
      "/Users/sergiopaniegoblanco/Library/Python/3.9/lib/python/site-packages/langchain_core/_api/deprecation.py:117: LangChainDeprecationWarning: The function `run` was deprecated in LangChain 0.1.0 and will be removed in 0.2.0. Use invoke instead.\n",
      "  warn_deprecated(\n"
     ]
    },
    {
     "name": "stdout",
     "output_type": "stream",
     "text": [
      "\n",
      "\n",
      "\u001b[1m> Entering new ConversationChain chain...\u001b[0m\n",
      "Prompt after formatting:\n",
      "\u001b[32;1m\u001b[1;3mThe following is a friendly conversation between a human and an AI. The AI is talkative and provides lots of specific details from its context. If the AI does not know the answer to a question, it truthfully says it does not know.\n",
      "\n",
      "Current conversation:\n",
      "\n",
      "Human: Hi, i am not able to start my dell laptop\n",
      "AI:\u001b[0m\n"
     ]
    },
    {
     "name": "stderr",
     "output_type": "stream",
     "text": [
      "/Users/sergiopaniegoblanco/Library/Python/3.9/lib/python/site-packages/tqdm/auto.py:21: TqdmWarning: IProgress not found. Please update jupyter and ipywidgets. See https://ipywidgets.readthedocs.io/en/stable/user_install.html\n",
      "  from .autonotebook import tqdm as notebook_tqdm\n",
      "/Users/sergiopaniegoblanco/Library/Python/3.9/lib/python/site-packages/huggingface_hub/file_download.py:1132: FutureWarning: `resume_download` is deprecated and will be removed in version 1.0.0. Downloads always resume when possible. If you want to force a new download, use `force_download=True`.\n",
      "  warnings.warn(\n"
     ]
    },
    {
     "name": "stdout",
     "output_type": "stream",
     "text": [
      "\n",
      "\u001b[1m> Finished chain.\u001b[0m\n",
      "Spent a total of 0 tokens\n"
     ]
    },
    {
     "data": {
      "text/plain": [
       "\"Sorry to hear that your Dell laptop won't turn on! Can you tell me more about what's happening? Does the power button light up at all when you press it? Is there a beeping sound or any visual indications of activity, such as fans spinning or lights flickering?\\n\\nAlso, have you tried unplugging the power cord and pressing the power button for 30 seconds to discharge any residual electricity? Sometimes that can help resolve issues like this.\""
      ]
     },
     "execution_count": 6,
     "metadata": {},
     "output_type": "execute_result"
    }
   ],
   "source": [
    "count_tokens(conversation_sumbuf,\"Hi, i am not able to start my dell laptop\")"
   ]
  },
  {
   "cell_type": "code",
   "execution_count": 7,
   "metadata": {},
   "outputs": [
    {
     "name": "stdout",
     "output_type": "stream",
     "text": [
      "\n",
      "\n",
      "\u001b[1m> Entering new ConversationChain chain...\u001b[0m\n",
      "Prompt after formatting:\n",
      "\u001b[32;1m\u001b[1;3mThe following is a friendly conversation between a human and an AI. The AI is talkative and provides lots of specific details from its context. If the AI does not know the answer to a question, it truthfully says it does not know.\n",
      "\n",
      "Current conversation:\n",
      "Human: Hi, i am not able to start my dell laptop\n",
      "AI: Sorry to hear that your Dell laptop won't turn on! Can you tell me more about what's happening? Does the power button light up at all when you press it? Is there a beeping sound or any visual indications of activity, such as fans spinning or lights flickering?\n",
      "\n",
      "Also, have you tried unplugging the power cord and pressing the power button for 30 seconds to discharge any residual electricity? Sometimes that can help resolve issues like this.\n",
      "Human: It is a dell xps 17\n",
      "AI:\u001b[0m\n",
      "\n",
      "\u001b[1m> Finished chain.\u001b[0m\n",
      "Spent a total of 0 tokens\n"
     ]
    },
    {
     "data": {
      "text/plain": [
       "\"A Dell XPS 17! Those are great laptops.\\n\\nSo, you're saying the power button doesn't light up at all when you press it? That's unusual. Normally, there would be some indication of power activity, even if the laptop itself won't turn on. And no beeps or visual signs, like fans spinning or lights flickering?\\n\\nHave you tried pressing the power button for 10-15 seconds to see if anything happens? Sometimes, these laptops can take a little extra time to boot up.\\n\\nAlso, I'm curious - have you checked the power cord and outlet to make sure they're working properly? Maybe try plugging it into a different outlet or using a different power cord to rule out any issues there.\\n\\nBy the way, is your laptop still under warranty? Just wondering because if it's not, we might need to explore some other troubleshooting options.\""
      ]
     },
     "execution_count": 7,
     "metadata": {},
     "output_type": "execute_result"
    }
   ],
   "source": [
    "count_tokens(conversation_sumbuf,\"It is a dell xps 17\")"
   ]
  },
  {
   "cell_type": "code",
   "execution_count": 8,
   "metadata": {},
   "outputs": [
    {
     "name": "stdout",
     "output_type": "stream",
     "text": [
      "\n",
      "\n",
      "\u001b[1m> Entering new ConversationChain chain...\u001b[0m\n",
      "Prompt after formatting:\n",
      "\u001b[32;1m\u001b[1;3mThe following is a friendly conversation between a human and an AI. The AI is talkative and provides lots of specific details from its context. If the AI does not know the answer to a question, it truthfully says it does not know.\n",
      "\n",
      "Current conversation:\n",
      "Human: Hi, i am not able to start my dell laptop\n",
      "AI: Sorry to hear that your Dell laptop won't turn on! Can you tell me more about what's happening? Does the power button light up at all when you press it? Is there a beeping sound or any visual indications of activity, such as fans spinning or lights flickering?\n",
      "\n",
      "Also, have you tried unplugging the power cord and pressing the power button for 30 seconds to discharge any residual electricity? Sometimes that can help resolve issues like this.\n",
      "Human: It is a dell xps 17\n",
      "AI: A Dell XPS 17! Those are great laptops.\n",
      "\n",
      "So, you're saying the power button doesn't light up at all when you press it? That's unusual. Normally, there would be some indication of power activity, even if the laptop itself won't turn on. And no beeps or visual signs, like fans spinning or lights flickering?\n",
      "\n",
      "Have you tried pressing the power button for 10-15 seconds to see if anything happens? Sometimes, these laptops can take a little extra time to boot up.\n",
      "\n",
      "Also, I'm curious - have you checked the power cord and outlet to make sure they're working properly? Maybe try plugging it into a different outlet or using a different power cord to rule out any issues there.\n",
      "\n",
      "By the way, is your laptop still under warranty? Just wondering because if it's not, we might need to explore some other troubleshooting options.\n",
      "Human: How do i start it up\n",
      "AI:\u001b[0m\n",
      "\n",
      "\u001b[1m> Finished chain.\u001b[0m\n",
      "Spent a total of 0 tokens\n"
     ]
    },
    {
     "data": {
      "text/plain": [
       "\"I'd be happy to help you troubleshoot or find a solution for starting your Dell XPS 17!\\n\\nIf the power button doesn't light up at all when you press it, and there's no beeping sound or visual signs of activity, that suggests the issue might be more serious than just a simple battery drain. In this case, I'd recommend trying to boot the laptop in a different way.\\n\\nOne option is to try booting from a USB drive or CD/DVD disc, if you have one handy. This can sometimes help identify if the problem is with the BIOS (Basic Input/Output System) or something else.\\n\\nAnother approach would be to try resetting the BIOS settings to their default values. To do this, you'll need to press F2 during boot-up (just after powering on). You'll then enter the BIOS setup menu, where you can reset the settings to their defaults and save the changes. This might help resolve any issues with the laptop's hardware or firmware.\\n\\nIf none of these steps work, it's possible that there's a more serious issue with your laptop's hardware or motherboard. In this case, I'd recommend contacting Dell support for further assistance, as they may be able to diagnose and repair the issue under warranty (if applicable).\\n\\nDoes any of this sound like something you'd like to try?\""
      ]
     },
     "execution_count": 8,
     "metadata": {},
     "output_type": "execute_result"
    }
   ],
   "source": [
    "count_tokens(conversation_sumbuf,\"How do i start it up\")"
   ]
  }
 ],
 "metadata": {
  "kernelspec": {
   "display_name": "Python 3",
   "language": "python",
   "name": "python3"
  },
  "language_info": {
   "codemirror_mode": {
    "name": "ipython",
    "version": 3
   },
   "file_extension": ".py",
   "mimetype": "text/x-python",
   "name": "python",
   "nbconvert_exporter": "python",
   "pygments_lexer": "ipython3",
   "version": "3.9.6"
  }
 },
 "nbformat": 4,
 "nbformat_minor": 2
}

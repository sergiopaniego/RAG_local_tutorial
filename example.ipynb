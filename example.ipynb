{
 "cells": [
  {
   "cell_type": "markdown",
   "metadata": {},
   "source": [
    "# Simple RAG example with Langchain, Ollama and and open-source model\n",
    "\n",
    "Sources:\n",
    "\n",
    "* https://github.com/svpino/llm\n",
    "* https://github.com/AIAnytime/Gemma-7B-RAG-using-Ollama/blob/main/Ollama%20Gemma.ipynb\n",
    "* https://www.youtube.com/watch?v=-MexTC18h20&ab_channel=AIAnytime\n",
    "* https://www.youtube.com/watch?v=HRvyei7vFSM&ab_channel=Underfitted\n",
    "\n",
    " \n",
    "# Requirements\n",
    "\n",
    "* Ollama installed locally"
   ]
  },
  {
   "cell_type": "code",
   "execution_count": 4,
   "metadata": {},
   "outputs": [
    {
     "name": "stdout",
     "output_type": "stream",
     "text": [
      "Defaulting to user installation because normal site-packages is not writeable\n",
      "Requirement already satisfied: langchain in /Users/sergiopaniegoblanco/Library/Python/3.9/lib/python/site-packages (0.1.16)\n",
      "Requirement already satisfied: jsonpatch<2.0,>=1.33 in /Users/sergiopaniegoblanco/Library/Python/3.9/lib/python/site-packages (from langchain) (1.33)\n",
      "Requirement already satisfied: numpy<2,>=1 in /Users/sergiopaniegoblanco/Library/Python/3.9/lib/python/site-packages (from langchain) (1.26.4)\n",
      "Requirement already satisfied: dataclasses-json<0.7,>=0.5.7 in /Users/sergiopaniegoblanco/Library/Python/3.9/lib/python/site-packages (from langchain) (0.6.4)\n",
      "Requirement already satisfied: requests<3,>=2 in /Users/sergiopaniegoblanco/Library/Python/3.9/lib/python/site-packages (from langchain) (2.31.0)\n",
      "Requirement already satisfied: langchain-core<0.2.0,>=0.1.42 in /Users/sergiopaniegoblanco/Library/Python/3.9/lib/python/site-packages (from langchain) (0.1.42)\n",
      "Requirement already satisfied: async-timeout<5.0.0,>=4.0.0 in /Users/sergiopaniegoblanco/Library/Python/3.9/lib/python/site-packages (from langchain) (4.0.3)\n",
      "Requirement already satisfied: pydantic<3,>=1 in /Users/sergiopaniegoblanco/Library/Python/3.9/lib/python/site-packages (from langchain) (2.6.4)\n",
      "Requirement already satisfied: langchain-community<0.1,>=0.0.32 in /Users/sergiopaniegoblanco/Library/Python/3.9/lib/python/site-packages (from langchain) (0.0.32)\n",
      "Requirement already satisfied: tenacity<9.0.0,>=8.1.0 in /Users/sergiopaniegoblanco/Library/Python/3.9/lib/python/site-packages (from langchain) (8.2.3)\n",
      "Requirement already satisfied: SQLAlchemy<3,>=1.4 in /Users/sergiopaniegoblanco/Library/Python/3.9/lib/python/site-packages (from langchain) (2.0.29)\n",
      "Requirement already satisfied: aiohttp<4.0.0,>=3.8.3 in /Users/sergiopaniegoblanco/Library/Python/3.9/lib/python/site-packages (from langchain) (3.9.3)\n",
      "Requirement already satisfied: PyYAML>=5.3 in /Users/sergiopaniegoblanco/Library/Python/3.9/lib/python/site-packages (from langchain) (6.0.1)\n",
      "Requirement already satisfied: langsmith<0.2.0,>=0.1.17 in /Users/sergiopaniegoblanco/Library/Python/3.9/lib/python/site-packages (from langchain) (0.1.45)\n",
      "Requirement already satisfied: langchain-text-splitters<0.1,>=0.0.1 in /Users/sergiopaniegoblanco/Library/Python/3.9/lib/python/site-packages (from langchain) (0.0.1)\n",
      "Requirement already satisfied: multidict<7.0,>=4.5 in /Users/sergiopaniegoblanco/Library/Python/3.9/lib/python/site-packages (from aiohttp<4.0.0,>=3.8.3->langchain) (6.0.5)\n",
      "Requirement already satisfied: frozenlist>=1.1.1 in /Users/sergiopaniegoblanco/Library/Python/3.9/lib/python/site-packages (from aiohttp<4.0.0,>=3.8.3->langchain) (1.4.1)\n",
      "Requirement already satisfied: yarl<2.0,>=1.0 in /Users/sergiopaniegoblanco/Library/Python/3.9/lib/python/site-packages (from aiohttp<4.0.0,>=3.8.3->langchain) (1.9.4)\n",
      "Requirement already satisfied: attrs>=17.3.0 in /Users/sergiopaniegoblanco/Library/Python/3.9/lib/python/site-packages (from aiohttp<4.0.0,>=3.8.3->langchain) (23.2.0)\n",
      "Requirement already satisfied: aiosignal>=1.1.2 in /Users/sergiopaniegoblanco/Library/Python/3.9/lib/python/site-packages (from aiohttp<4.0.0,>=3.8.3->langchain) (1.3.1)\n",
      "Requirement already satisfied: typing-inspect<1,>=0.4.0 in /Users/sergiopaniegoblanco/Library/Python/3.9/lib/python/site-packages (from dataclasses-json<0.7,>=0.5.7->langchain) (0.9.0)\n",
      "Requirement already satisfied: marshmallow<4.0.0,>=3.18.0 in /Users/sergiopaniegoblanco/Library/Python/3.9/lib/python/site-packages (from dataclasses-json<0.7,>=0.5.7->langchain) (3.21.1)\n",
      "Requirement already satisfied: jsonpointer>=1.9 in /Users/sergiopaniegoblanco/Library/Python/3.9/lib/python/site-packages (from jsonpatch<2.0,>=1.33->langchain) (2.4)\n",
      "Requirement already satisfied: packaging<24.0,>=23.2 in /Users/sergiopaniegoblanco/Library/Python/3.9/lib/python/site-packages (from langchain-core<0.2.0,>=0.1.42->langchain) (23.2)\n",
      "Requirement already satisfied: orjson<4.0.0,>=3.9.14 in /Users/sergiopaniegoblanco/Library/Python/3.9/lib/python/site-packages (from langsmith<0.2.0,>=0.1.17->langchain) (3.10.0)\n",
      "Requirement already satisfied: annotated-types>=0.4.0 in /Users/sergiopaniegoblanco/Library/Python/3.9/lib/python/site-packages (from pydantic<3,>=1->langchain) (0.6.0)\n",
      "Requirement already satisfied: pydantic-core==2.16.3 in /Users/sergiopaniegoblanco/Library/Python/3.9/lib/python/site-packages (from pydantic<3,>=1->langchain) (2.16.3)\n",
      "Requirement already satisfied: typing-extensions>=4.6.1 in /Users/sergiopaniegoblanco/Library/Python/3.9/lib/python/site-packages (from pydantic<3,>=1->langchain) (4.11.0)\n",
      "Requirement already satisfied: charset-normalizer<4,>=2 in /Users/sergiopaniegoblanco/Library/Python/3.9/lib/python/site-packages (from requests<3,>=2->langchain) (3.3.2)\n",
      "Requirement already satisfied: urllib3<3,>=1.21.1 in /Users/sergiopaniegoblanco/Library/Python/3.9/lib/python/site-packages (from requests<3,>=2->langchain) (2.2.1)\n",
      "Requirement already satisfied: idna<4,>=2.5 in /Users/sergiopaniegoblanco/Library/Python/3.9/lib/python/site-packages (from requests<3,>=2->langchain) (3.7)\n",
      "Requirement already satisfied: certifi>=2017.4.17 in /Users/sergiopaniegoblanco/Library/Python/3.9/lib/python/site-packages (from requests<3,>=2->langchain) (2024.2.2)\n",
      "Requirement already satisfied: greenlet!=0.4.17 in /Users/sergiopaniegoblanco/Library/Python/3.9/lib/python/site-packages (from SQLAlchemy<3,>=1.4->langchain) (3.0.3)\n",
      "Requirement already satisfied: mypy-extensions>=0.3.0 in /Users/sergiopaniegoblanco/Library/Python/3.9/lib/python/site-packages (from typing-inspect<1,>=0.4.0->dataclasses-json<0.7,>=0.5.7->langchain) (1.0.0)\n",
      "\u001b[33mWARNING: You are using pip version 21.2.4; however, version 24.0 is available.\n",
      "You should consider upgrading via the '/Library/Developer/CommandLineTools/usr/bin/python3 -m pip install --upgrade pip' command.\u001b[0m\n",
      "Defaulting to user installation because normal site-packages is not writeable\n",
      "Collecting langchain_pinecone\n",
      "  Downloading langchain_pinecone-0.1.0-py3-none-any.whl (8.4 kB)\n",
      "Requirement already satisfied: langchain-core<0.2.0,>=0.1.40 in /Users/sergiopaniegoblanco/Library/Python/3.9/lib/python/site-packages (from langchain_pinecone) (0.1.42)\n",
      "Requirement already satisfied: numpy<2,>=1 in /Users/sergiopaniegoblanco/Library/Python/3.9/lib/python/site-packages (from langchain_pinecone) (1.26.4)\n",
      "Collecting pinecone-client<4.0.0,>=3.2.2\n",
      "  Downloading pinecone_client-3.2.2-py3-none-any.whl (215 kB)\n",
      "\u001b[K     |████████████████████████████████| 215 kB 5.2 MB/s eta 0:00:01\n",
      "\u001b[?25hRequirement already satisfied: tenacity<9.0.0,>=8.1.0 in /Users/sergiopaniegoblanco/Library/Python/3.9/lib/python/site-packages (from langchain-core<0.2.0,>=0.1.40->langchain_pinecone) (8.2.3)\n",
      "Requirement already satisfied: pydantic<3,>=1 in /Users/sergiopaniegoblanco/Library/Python/3.9/lib/python/site-packages (from langchain-core<0.2.0,>=0.1.40->langchain_pinecone) (2.6.4)\n",
      "Requirement already satisfied: langsmith<0.2.0,>=0.1.0 in /Users/sergiopaniegoblanco/Library/Python/3.9/lib/python/site-packages (from langchain-core<0.2.0,>=0.1.40->langchain_pinecone) (0.1.45)\n",
      "Requirement already satisfied: jsonpatch<2.0,>=1.33 in /Users/sergiopaniegoblanco/Library/Python/3.9/lib/python/site-packages (from langchain-core<0.2.0,>=0.1.40->langchain_pinecone) (1.33)\n",
      "Requirement already satisfied: packaging<24.0,>=23.2 in /Users/sergiopaniegoblanco/Library/Python/3.9/lib/python/site-packages (from langchain-core<0.2.0,>=0.1.40->langchain_pinecone) (23.2)\n",
      "Requirement already satisfied: PyYAML>=5.3 in /Users/sergiopaniegoblanco/Library/Python/3.9/lib/python/site-packages (from langchain-core<0.2.0,>=0.1.40->langchain_pinecone) (6.0.1)\n",
      "Requirement already satisfied: jsonpointer>=1.9 in /Users/sergiopaniegoblanco/Library/Python/3.9/lib/python/site-packages (from jsonpatch<2.0,>=1.33->langchain-core<0.2.0,>=0.1.40->langchain_pinecone) (2.4)\n",
      "Requirement already satisfied: requests<3,>=2 in /Users/sergiopaniegoblanco/Library/Python/3.9/lib/python/site-packages (from langsmith<0.2.0,>=0.1.0->langchain-core<0.2.0,>=0.1.40->langchain_pinecone) (2.31.0)\n",
      "Requirement already satisfied: orjson<4.0.0,>=3.9.14 in /Users/sergiopaniegoblanco/Library/Python/3.9/lib/python/site-packages (from langsmith<0.2.0,>=0.1.0->langchain-core<0.2.0,>=0.1.40->langchain_pinecone) (3.10.0)\n",
      "Requirement already satisfied: typing-extensions>=3.7.4 in /Users/sergiopaniegoblanco/Library/Python/3.9/lib/python/site-packages (from pinecone-client<4.0.0,>=3.2.2->langchain_pinecone) (4.11.0)\n",
      "Requirement already satisfied: urllib3>=1.26.0 in /Users/sergiopaniegoblanco/Library/Python/3.9/lib/python/site-packages (from pinecone-client<4.0.0,>=3.2.2->langchain_pinecone) (2.2.1)\n",
      "Collecting tqdm>=4.64.1\n",
      "  Downloading tqdm-4.66.2-py3-none-any.whl (78 kB)\n",
      "\u001b[K     |████████████████████████████████| 78 kB 10.9 MB/s eta 0:00:01\n",
      "\u001b[?25hRequirement already satisfied: certifi>=2019.11.17 in /Users/sergiopaniegoblanco/Library/Python/3.9/lib/python/site-packages (from pinecone-client<4.0.0,>=3.2.2->langchain_pinecone) (2024.2.2)\n",
      "Requirement already satisfied: pydantic-core==2.16.3 in /Users/sergiopaniegoblanco/Library/Python/3.9/lib/python/site-packages (from pydantic<3,>=1->langchain-core<0.2.0,>=0.1.40->langchain_pinecone) (2.16.3)\n",
      "Requirement already satisfied: annotated-types>=0.4.0 in /Users/sergiopaniegoblanco/Library/Python/3.9/lib/python/site-packages (from pydantic<3,>=1->langchain-core<0.2.0,>=0.1.40->langchain_pinecone) (0.6.0)\n",
      "Requirement already satisfied: charset-normalizer<4,>=2 in /Users/sergiopaniegoblanco/Library/Python/3.9/lib/python/site-packages (from requests<3,>=2->langsmith<0.2.0,>=0.1.0->langchain-core<0.2.0,>=0.1.40->langchain_pinecone) (3.3.2)\n",
      "Requirement already satisfied: idna<4,>=2.5 in /Users/sergiopaniegoblanco/Library/Python/3.9/lib/python/site-packages (from requests<3,>=2->langsmith<0.2.0,>=0.1.0->langchain-core<0.2.0,>=0.1.40->langchain_pinecone) (3.7)\n",
      "Installing collected packages: tqdm, pinecone-client, langchain-pinecone\n",
      "Successfully installed langchain-pinecone-0.1.0 pinecone-client-3.2.2 tqdm-4.66.2\n",
      "\u001b[33mWARNING: You are using pip version 21.2.4; however, version 24.0 is available.\n",
      "You should consider upgrading via the '/Library/Developer/CommandLineTools/usr/bin/python3 -m pip install --upgrade pip' command.\u001b[0m\n",
      "zsh:1: no matches found: langchain[docarray]\n",
      "Defaulting to user installation because normal site-packages is not writeable\n",
      "Collecting docarray\n",
      "  Downloading docarray-0.40.0-py3-none-any.whl (270 kB)\n",
      "\u001b[K     |████████████████████████████████| 270 kB 5.4 MB/s eta 0:00:01\n",
      "\u001b[?25hRequirement already satisfied: orjson>=3.8.2 in /Users/sergiopaniegoblanco/Library/Python/3.9/lib/python/site-packages (from docarray) (3.10.0)\n",
      "Requirement already satisfied: numpy>=1.17.3 in /Users/sergiopaniegoblanco/Library/Python/3.9/lib/python/site-packages (from docarray) (1.26.4)\n",
      "Requirement already satisfied: pydantic>=1.10.8 in /Users/sergiopaniegoblanco/Library/Python/3.9/lib/python/site-packages (from docarray) (2.6.4)\n",
      "Requirement already satisfied: typing-inspect>=0.8.0 in /Users/sergiopaniegoblanco/Library/Python/3.9/lib/python/site-packages (from docarray) (0.9.0)\n",
      "Collecting types-requests>=2.28.11.6\n",
      "  Downloading types_requests-2.31.0.20240406-py3-none-any.whl (15 kB)\n",
      "Collecting rich>=13.1.0\n",
      "  Downloading rich-13.7.1-py3-none-any.whl (240 kB)\n",
      "\u001b[K     |████████████████████████████████| 240 kB 34.1 MB/s eta 0:00:01\n",
      "\u001b[?25hRequirement already satisfied: typing-extensions>=4.6.1 in /Users/sergiopaniegoblanco/Library/Python/3.9/lib/python/site-packages (from pydantic>=1.10.8->docarray) (4.11.0)\n",
      "Requirement already satisfied: annotated-types>=0.4.0 in /Users/sergiopaniegoblanco/Library/Python/3.9/lib/python/site-packages (from pydantic>=1.10.8->docarray) (0.6.0)\n",
      "Requirement already satisfied: pydantic-core==2.16.3 in /Users/sergiopaniegoblanco/Library/Python/3.9/lib/python/site-packages (from pydantic>=1.10.8->docarray) (2.16.3)\n",
      "Requirement already satisfied: pygments<3.0.0,>=2.13.0 in /Users/sergiopaniegoblanco/Library/Python/3.9/lib/python/site-packages (from rich>=13.1.0->docarray) (2.17.2)\n",
      "Collecting markdown-it-py>=2.2.0\n",
      "  Downloading markdown_it_py-3.0.0-py3-none-any.whl (87 kB)\n",
      "\u001b[K     |████████████████████████████████| 87 kB 8.8 MB/s  eta 0:00:01\n",
      "\u001b[?25hCollecting mdurl~=0.1\n",
      "  Downloading mdurl-0.1.2-py3-none-any.whl (10.0 kB)\n",
      "Requirement already satisfied: urllib3>=2 in /Users/sergiopaniegoblanco/Library/Python/3.9/lib/python/site-packages (from types-requests>=2.28.11.6->docarray) (2.2.1)\n",
      "Requirement already satisfied: mypy-extensions>=0.3.0 in /Users/sergiopaniegoblanco/Library/Python/3.9/lib/python/site-packages (from typing-inspect>=0.8.0->docarray) (1.0.0)\n",
      "Installing collected packages: mdurl, markdown-it-py, types-requests, rich, docarray\n",
      "Successfully installed docarray-0.40.0 markdown-it-py-3.0.0 mdurl-0.1.2 rich-13.7.1 types-requests-2.31.0.20240406\n",
      "\u001b[33mWARNING: You are using pip version 21.2.4; however, version 24.0 is available.\n",
      "You should consider upgrading via the '/Library/Developer/CommandLineTools/usr/bin/python3 -m pip install --upgrade pip' command.\u001b[0m\n",
      "Defaulting to user installation because normal site-packages is not writeable\n",
      "Collecting scikit-learn\n",
      "  Downloading scikit_learn-1.4.2-cp39-cp39-macosx_10_9_x86_64.whl (11.6 MB)\n",
      "\u001b[K     |████████████████████████████████| 11.6 MB 3.7 MB/s eta 0:00:01\n",
      "\u001b[?25hCollecting scipy>=1.6.0\n",
      "  Downloading scipy-1.13.0-cp39-cp39-macosx_10_9_x86_64.whl (39.3 MB)\n",
      "\u001b[K     |████████████████████████████████| 39.3 MB 16.3 MB/s eta 0:00:01\n",
      "\u001b[?25hCollecting joblib>=1.2.0\n",
      "  Downloading joblib-1.4.0-py3-none-any.whl (301 kB)\n",
      "\u001b[K     |████████████████████████████████| 301 kB 30.4 MB/s eta 0:00:01\n",
      "\u001b[?25hCollecting threadpoolctl>=2.0.0\n",
      "  Downloading threadpoolctl-3.4.0-py3-none-any.whl (17 kB)\n",
      "Requirement already satisfied: numpy>=1.19.5 in /Users/sergiopaniegoblanco/Library/Python/3.9/lib/python/site-packages (from scikit-learn) (1.26.4)\n",
      "Installing collected packages: threadpoolctl, scipy, joblib, scikit-learn\n",
      "Successfully installed joblib-1.4.0 scikit-learn-1.4.2 scipy-1.13.0 threadpoolctl-3.4.0\n",
      "\u001b[33mWARNING: You are using pip version 21.2.4; however, version 24.0 is available.\n",
      "You should consider upgrading via the '/Library/Developer/CommandLineTools/usr/bin/python3 -m pip install --upgrade pip' command.\u001b[0m\n",
      "Defaulting to user installation because normal site-packages is not writeable\n",
      "Collecting pypdf\n",
      "  Downloading pypdf-4.2.0-py3-none-any.whl (290 kB)\n",
      "\u001b[K     |████████████████████████████████| 290 kB 5.3 MB/s eta 0:00:01\n",
      "\u001b[?25hRequirement already satisfied: typing_extensions>=4.0 in /Users/sergiopaniegoblanco/Library/Python/3.9/lib/python/site-packages (from pypdf) (4.11.0)\n",
      "Installing collected packages: pypdf\n",
      "Successfully installed pypdf-4.2.0\n",
      "\u001b[33mWARNING: You are using pip version 21.2.4; however, version 24.0 is available.\n",
      "You should consider upgrading via the '/Library/Developer/CommandLineTools/usr/bin/python3 -m pip install --upgrade pip' command.\u001b[0m\n"
     ]
    }
   ],
   "source": [
    "!pip3 install langchain\n",
    "#langchain-openai\n",
    "!pip3 install langchain_pinecone\n",
    "!pip3 install pip install langchain[docarray]\n",
    "!pip3 install docarray\n",
    "#pydantic==1.10.8\n",
    "#pytube \n",
    "#python-dotenv\n",
    "#tiktoken \n",
    "#pinecone-client \n",
    "!pip3 install scikit-learn\n",
    "#ruff\n",
    "!pip3 install pypdf\n",
    "#git+https://github.com/openai/whisper.git"
   ]
  },
  {
   "cell_type": "code",
   "execution_count": 22,
   "metadata": {},
   "outputs": [],
   "source": [
    "#import os\n",
    "#from dotenv import load_dotenv\n",
    "\n",
    "#load_dotenv()\n",
    "\n",
    "#OPENAI_API_KEY = os.getenv(\"OPENAI_API_KEY\")\n",
    "#MODEL = \"gpt-3.5-turbo\"\n",
    "#MODEL = \"mixtral:8x7b\"\n",
    "MODEL = \"gemma:7b\"\n",
    "MODEL = \"llama2\""
   ]
  },
  {
   "cell_type": "code",
   "execution_count": 23,
   "metadata": {},
   "outputs": [
    {
     "data": {
      "text/plain": [
       "\"\\nSure! Here's a classic one:\\n\\nWhy don't scientists trust atoms?\\nBecause they make up everything!\\n\\nI hope you found that amusing! Do you want to hear another one?\""
      ]
     },
     "execution_count": 23,
     "metadata": {},
     "output_type": "execute_result"
    }
   ],
   "source": [
    "from langchain_community.llms import Ollama\n",
    "#from langchain_openai.chat_models import ChatOpenAI\n",
    "from langchain_community.embeddings import OllamaEmbeddings\n",
    "#from langchain_openai.embeddings import OpenAIEmbeddings\n",
    "\n",
    "#if MODEL.startswith(\"gpt\"):\n",
    "#    model = ChatOpenAI(openai_api_key=OPENAI_API_KEY, model=MODEL)\n",
    "#    embeddings = OpenAIEmbeddings()\n",
    "#else:\n",
    "model = Ollama(model=MODEL)\n",
    "embeddings = OllamaEmbeddings(model=MODEL)\n",
    "\n",
    "model.invoke(\"Tell me a joke\")"
   ]
  },
  {
   "cell_type": "code",
   "execution_count": 8,
   "metadata": {},
   "outputs": [
    {
     "data": {
      "text/plain": [
       "\"Sure, here's one:\\n\\nWhy don't scientists trust atoms?\\nBecause they make up everything!\\n\\nI hope that brought a smile to your face!\""
      ]
     },
     "execution_count": 8,
     "metadata": {},
     "output_type": "execute_result"
    }
   ],
   "source": [
    "from langchain_core.output_parsers import StrOutputParser\n",
    "\n",
    "parser = StrOutputParser()\n",
    "\n",
    "chain = model | parser \n",
    "chain.invoke(\"Tell me a joke\")"
   ]
  },
  {
   "cell_type": "code",
   "execution_count": 10,
   "metadata": {},
   "outputs": [
    {
     "data": {
      "text/plain": [
       "'\\nAnswer the question based on the context below. If you can\\'t \\nanswer the question, reply \"I don\\'t know\".\\n\\nContext: Here is some context\\n\\nQuestion: Here is a question\\n'"
      ]
     },
     "execution_count": 10,
     "metadata": {},
     "output_type": "execute_result"
    }
   ],
   "source": [
    "from langchain.prompts import PromptTemplate\n",
    "\n",
    "template = \"\"\"\n",
    "Answer the question based on the context below. If you can't \n",
    "answer the question, reply \"I don't know\".\n",
    "\n",
    "Context: {context}\n",
    "\n",
    "Question: {question}\n",
    "\"\"\"\n",
    "\n",
    "prompt = PromptTemplate.from_template(template)\n",
    "prompt.format(context=\"Here is some context\", question=\"Here is a question\")"
   ]
  },
  {
   "cell_type": "code",
   "execution_count": 11,
   "metadata": {},
   "outputs": [
    {
     "data": {
      "text/plain": [
       "' Sure! Based on the context you provided, my answer would be:\\n\\n\"My name is Santiago.\"'"
      ]
     },
     "execution_count": 11,
     "metadata": {},
     "output_type": "execute_result"
    }
   ],
   "source": [
    "chain = prompt | model | parser\n",
    "\n",
    "chain.invoke({\"context\": \"My parents named me Santiago\", \"question\": \"What's your name'?\"})"
   ]
  },
  {
   "cell_type": "code",
   "execution_count": 12,
   "metadata": {},
   "outputs": [
    {
     "data": {
      "text/plain": [
       "[Document(page_content='11/4/24, 19:02 Building Machine Learning Systems That Don\\'t Suck\\nhttps://www.ml.school 1/10Building Machine Learning Systems That Don\\'t\\nSuck\\nA live, interactive program that\\'ll help you build production-readymachine\\nlearning systems from the ground up.\\nNext cohort:\\xa0May6 - 23, 2024\\nCheck the schedulefor more details about upcoming cohorts.\\nI want to join!Sign in\\nLearn how to design, build, deploy, and scale machine learning\\nsystems to solve real-world problems.\\nI\\'ll lose my mind if I see another book or course teaching people the same basic\\nideas for the hundredth time. Most people are stuck in beginner mode, and finding\\nhelp to solve real-world problems is hard.\\nI want to change that.\\nI started writing software 30 years ago. I\\'ve written pipelines and trained models\\nfor some of the largest companies in the world. I want to show you how to do the\\nsame.\\nThis is the class I wish I had taken when I started.\"This is the best machine learning course I\\'ve done.\\nWorth every cent.\"\\n— Jose Reyes, AI/ML at Cevo Australia', metadata={'source': 'machine_learning.pdf', 'page': 0}),\n",
       " Document(page_content=\"11/4/24, 19:02 Building Machine Learning Systems That Don't Suck\\nhttps://www.ml.school 2/10This program will help you unlearn what you think machine learning is. It's a\\npractical, hands-on class where you'll learn from years of experience and real-\\nworld examples.\\nWhen you join, you get lifetime access to the following:\\n18 hours of live, interactive sessions. We'll use this time to discuss the first\\nprinciples behind building machine learning systems.\\n10 hours of step-by-step coding instructions. These practical sessions will\\nshow you how to build an end-to-end system from scratch.\\nA final project where you'll build a complete solution and receive direct\\nfeedback on your work.\\n100 coding assignments and practice questions.\\nThe entire source code of a working production system. It's yours. You can\\nchange and use it as you see fit.\\nA private community where you'll collaborate with thousands of people from\\ndifferent backgrounds.\\nDirect access to your instructor.\\nLifetime access to every past and future cohort.\\nProgram certificate upon completion.\\nAnd the best part is that you only pay once to join. There are no monthly fees. No\\nannual fees. No hidden costs. You pay once to join and benefit forever until the end\\nof time.\\nThe program won't be easy. It'll take time and effort. But if you want to use\\nmachine learning to solve real-world problems,this is the class you don't want to\\nmiss.\\nWho Is This Program For?\\nThis is a practical, hands-on program for technical professionals\\nwho are ready to put in the work.\", metadata={'source': 'machine_learning.pdf', 'page': 1}),\n",
       " Document(page_content='11/4/24, 19:02 Building Machine Learning Systems That Don\\'t Suck\\nhttps://www.ml.school 3/10This program is for software engineers,data scientists,data analysts,machine\\nlearning engineers,technical managers, and anyone anyone who wants to use\\nmachine learning to solve real-world problems.\\nHere are the criteria to succeed in the program:\\nYou have experience writing code. We\\'ll use Python throughout the class, but\\nyou won\\'t have any problems if you know any other language.\\nYou are familiar with basic machine learning terminology. This is not an\\nintroductory class. We\\'ll move quickly over the basics to focus on the\\nfundamental ideas that make systems work.\\nYou are ready to put in the work to succeed.\\n\"I have learned a ton from Santiago in his class and it was actually what helped inspire me\\nand get into the MLOps work that I\\'m doing now. Truly one of the most helpful online courses\\nfor doing real, full-scale machine learning.\"\\nBrian H. Hough\\nSoftware Engineer\\nWhat Will You Learn?\\nYou\\'ll come out with practical skills and insights into what it takes to\\nbuild systems that work in the real world.\\nHere is a summary of what makes this program unique:\\nYou\\'ll design and write the code to build an end-to-end machine learning\\nsystem starting from scratch.', metadata={'source': 'machine_learning.pdf', 'page': 2}),\n",
       " Document(page_content=\"11/4/24, 19:02 Building Machine Learning Systems That Don't Suck\\nhttps://www.ml.school 4/10You'll learn best practices to tackle the most significant challenges machine\\nlearning engineers face to build, evaluate, run, monitor, and maintain machine\\nlearning systems in real-world scenarios.\\nYou'll learn how to use techniques like active learning, distributed training,\\nadversarial validation, human-in-the-loop deployments, model compression,\\ntest-time augmentation, testing in production, among many others.\\nYou'll learn how to create training, deploying, monitoring, and inference\\npipelines using Amazon SageMaker and open-source tools.\\nForget about theoretical concepts. This program will show you some of the things\\nI've learned from real-life examples I've built during more than 30 years in the\\nindustry.\\nCheck the program syllabus\\xa0→\\nReal-life examples and case studies\\nLearn from practical experience building machine\\nlearning systems that work in the real world.\\nLive, interactive sessions\\nAsk questions and interact with the instructor and\\nother students in real time.\", metadata={'source': 'machine_learning.pdf', 'page': 3}),\n",
       " Document(page_content=\"11/4/24, 19:02 Building Machine Learning Systems That Don't Suck\\nhttps://www.ml.school 5/10Code walkthroughs\\nStep by step coding instructions to help you build\\na production system from scratch.\\nUpcoming Schedule\\nEvery iteration of the program gives you 18 hours of hands-on, live\\ntraining spread over 3 weeks.\\nHere are the upcoming cohorts:\\nCohort 13:May 6-May 23, 2024.2:00 PM EDT\\nCohort 14:July 1-July 18, 2024.4:00 AM EDT\\nLive sessions will take place every Monday and Thursday at the same time. On\\nWednesdays, we'll host office hours when you can bring your questions projects or\\nanything else you want to discuss.\\nMonday: Live session. 2 hours.\\nTuesday: Individual work.\\nWednesday: Optional office hours.\\nThursday: Live session. 2 hours.\\nFriday: Individual work.\\nDo not wait for a specific cohort to join the program. You have lifetime access to\\nevery past and future cohort, and the sooner you join, the more time you have to\\nprepare.\\nEvery session is recorded. You can attend live or watch the recorded version later.\", metadata={'source': 'machine_learning.pdf', 'page': 4}),\n",
       " Document(page_content='11/4/24, 19:02 Building Machine Learning Systems That Don\\'t Suck\\nhttps://www.ml.school 6/10\"This is one of the best classes I\\'ve ever purchased over the internet. Santiago is a terrific\\nteacher. The ability he has to share knowledge is fantastic. I recommend this course. Worth\\n10x what he\\'s charging.\"\\nSal DiStefano\\nReady To Join The Program?\\nYou\\'ll get lifetime access. No monthly fees. No annual fees. No\\nhidden costs.\\n$450$350\\nPay once. Access forever.\\nPay once to join the program and get lifetime access. You can participate in as many\\niterations as you\\'d like. No restrictions.\\nJoin now\\nEnjoy 18 hours of live, interactive sessions\\nWatch 10 hours of step-by-step coding instructions\\nPractice with 100 coding assignments\\nAccess the complete source code of a production system\\nLearn how to start freelancing on Upwork', metadata={'source': 'machine_learning.pdf', 'page': 5}),\n",
       " Document(page_content=\"11/4/24, 19:02 Building Machine Learning Systems That Don't Suck\\nhttps://www.ml.school 7/10Program Syllabus\\nThis program will teach you the practical skills and insights that will\\nhelp you build machine learning systems.\\nHere are the contents of the six live sessions of the program:\\nSession 1 - How To Start (Almost) Any Project\\nWhat makes production machine learning different from what you've learned.\\nThe strategy to solve the right problem using the right solution.\\nCritical questions to ask before starting any project.\\nProblem framing, inversion, and the haystack principle for building successful\\napplications.\\nThe first rule of machine learning engineering and how to start building.\\nData collection strategies. A technique to determine how much data you\\nneed.\\nThe problem of selection bias and how to deal with it.\\nLabeling data. Human annotations, natural labels and weak supervision.\\nActive learning using the uncertainty and diversity sampling strategies.\\nSession 2 - How to Build a Model\\nThe role of data cleaning and feature engineering to build better models.\\nTurning data into numbers using vectorization techniques.\\nProducing homogeneous features using normalization and standardization.\\nHandling and interpreting missing values using imputation techniques.\\nThe approach to choosing the best model to solve any problem.\\nRandom baselines and the zero-rule algorithm.\\nHow to use overfitting to build models that don't suck.Get feedback and support from the community\\nGet direct feedback from your instructor\", metadata={'source': 'machine_learning.pdf', 'page': 6}),\n",
       " Document(page_content='11/4/24, 19:02 Building Machine Learning Systems That Don\\'t Suck\\nhttps://www.ml.school 8/10Hyperparameter tuning and experiment tracking.\\nMeasuring the quality of your holdout set.\\nAn introduction to distributed training using data parallelism and model\\nparallelism.\\nSee the remaining sessions\\n\"This is an awesome course! This is my second round and I continue learning. I recommend it\\nwith complete confidence.\"\\nJuan Olano\\nMachine Learning Engineer\\nFrequently Asked Questions\\nIf you can\\'t find the answer to your question, please reach out on\\nsocial media and I\\'ll be happy to help.\\nHow long will it take to complete the program?\\nIf you are attending the live sessions, you should set aside a minimum of 4 hours\\nevery week during the three weeks of the program. This commitment will be\\nenough for engineer leaders or anyone not interested in the coding portion of the\\nprogram.\\nThose interested in implementing the concepts discussed in class should set aside\\n2 to 4 hours weekly to complete the code walkthroughs and work on the\\nassignments.', metadata={'source': 'machine_learning.pdf', 'page': 7}),\n",
       " Document(page_content='11/4/24, 19:02 Building Machine Learning Systems That Don\\'t Suck\\nhttps://www.ml.school 9/10Are live sessions recorded?\\nYes, we record every live session. You can decide when to attend classes live or\\ncatch up asynchronously later using the recording.\\nI\\'m a complete beginner. Is this program helpful for me?\\nThis program is not an introduction to machine learning.\\nWhile we\\'ll discuss many fundamental ideas behind machine learning, beginners\\nwill find the sessions go much faster than what\\'s optimal for them.\\nWhat does \"lifetime access\" mean?\\nYou only pay once to join the program and get immediate access to every past,\\npresent, and future cohort.\\nEvery new iteration of the program is better than the ones before. Many students\\ntake classes once and then join a later cohort to benefit from the updates.\\nThe lifetime access removes any pressure from having to complete the program\\nwhen life gets in the way.\\nHey! I\\'m Santiago.\\nI\\'m the instructor of the program.', metadata={'source': 'machine_learning.pdf', 'page': 8}),\n",
       " Document(page_content=\"11/4/24, 19:02 Building Machine Learning Systems That Don't Suck\\nhttps://www.ml.school 10/10I'm a machine learning engineer with over two decades of experience\\nbuilding and scaling enterprise software and machine learning systems.\\nI love neural networks. I love to make them work at scale.\\nFrom 2009 to 2023, I built products for Disney, Boston Dynamics, IBM,\\nDell, G4S, Anheuser-Busch, and NextEra Energy, among other clients. I\\nlearned about trade-offs and how to create products that work.\\nI started this program in March 2023. Since then, thousands of students\\nhave graduated, and I can't wait to meet you in class.\\nCopyright © 2024 Tideily LLC\\nAll rights reserved.\", metadata={'source': 'machine_learning.pdf', 'page': 9})]"
      ]
     },
     "execution_count": 12,
     "metadata": {},
     "output_type": "execute_result"
    }
   ],
   "source": [
    "# Example pdf downloaded from https://www.ml.school/ \n",
    "from langchain_community.document_loaders import PyPDFLoader\n",
    "\n",
    "\n",
    "loader = PyPDFLoader(\"machine_learning.pdf\")\n",
    "pages = loader.load_and_split()\n",
    "pages"
   ]
  },
  {
   "cell_type": "code",
   "execution_count": 15,
   "metadata": {},
   "outputs": [
    {
     "name": "stderr",
     "output_type": "stream",
     "text": [
      "/Users/sergiopaniegoblanco/Library/Python/3.9/lib/python/site-packages/pydantic/_migration.py:283: UserWarning: `pydantic.error_wrappers:ValidationError` has been moved to `pydantic:ValidationError`.\n",
      "  warnings.warn(f'`{import_path}` has been moved to `{new_location}`.')\n"
     ]
    }
   ],
   "source": [
    "from langchain_community.vectorstores import DocArrayInMemorySearch\n",
    "\n",
    "vectorstore = DocArrayInMemorySearch.from_documents(pages, embedding=embeddings)"
   ]
  },
  {
   "cell_type": "code",
   "execution_count": 16,
   "metadata": {},
   "outputs": [
    {
     "data": {
      "text/plain": [
       "[Document(page_content=\"11/4/24, 19:02 Building Machine Learning Systems That Don't Suck\\nhttps://www.ml.school 10/10I'm a machine learning engineer with over two decades of experience\\nbuilding and scaling enterprise software and machine learning systems.\\nI love neural networks. I love to make them work at scale.\\nFrom 2009 to 2023, I built products for Disney, Boston Dynamics, IBM,\\nDell, G4S, Anheuser-Busch, and NextEra Energy, among other clients. I\\nlearned about trade-offs and how to create products that work.\\nI started this program in March 2023. Since then, thousands of students\\nhave graduated, and I can't wait to meet you in class.\\nCopyright © 2024 Tideily LLC\\nAll rights reserved.\", metadata={'source': 'machine_learning.pdf', 'page': 9}),\n",
       " Document(page_content='11/4/24, 19:02 Building Machine Learning Systems That Don\\'t Suck\\nhttps://www.ml.school 8/10Hyperparameter tuning and experiment tracking.\\nMeasuring the quality of your holdout set.\\nAn introduction to distributed training using data parallelism and model\\nparallelism.\\nSee the remaining sessions\\n\"This is an awesome course! This is my second round and I continue learning. I recommend it\\nwith complete confidence.\"\\nJuan Olano\\nMachine Learning Engineer\\nFrequently Asked Questions\\nIf you can\\'t find the answer to your question, please reach out on\\nsocial media and I\\'ll be happy to help.\\nHow long will it take to complete the program?\\nIf you are attending the live sessions, you should set aside a minimum of 4 hours\\nevery week during the three weeks of the program. This commitment will be\\nenough for engineer leaders or anyone not interested in the coding portion of the\\nprogram.\\nThose interested in implementing the concepts discussed in class should set aside\\n2 to 4 hours weekly to complete the code walkthroughs and work on the\\nassignments.', metadata={'source': 'machine_learning.pdf', 'page': 7}),\n",
       " Document(page_content='11/4/24, 19:02 Building Machine Learning Systems That Don\\'t Suck\\nhttps://www.ml.school 1/10Building Machine Learning Systems That Don\\'t\\nSuck\\nA live, interactive program that\\'ll help you build production-readymachine\\nlearning systems from the ground up.\\nNext cohort:\\xa0May6 - 23, 2024\\nCheck the schedulefor more details about upcoming cohorts.\\nI want to join!Sign in\\nLearn how to design, build, deploy, and scale machine learning\\nsystems to solve real-world problems.\\nI\\'ll lose my mind if I see another book or course teaching people the same basic\\nideas for the hundredth time. Most people are stuck in beginner mode, and finding\\nhelp to solve real-world problems is hard.\\nI want to change that.\\nI started writing software 30 years ago. I\\'ve written pipelines and trained models\\nfor some of the largest companies in the world. I want to show you how to do the\\nsame.\\nThis is the class I wish I had taken when I started.\"This is the best machine learning course I\\'ve done.\\nWorth every cent.\"\\n— Jose Reyes, AI/ML at Cevo Australia', metadata={'source': 'machine_learning.pdf', 'page': 0}),\n",
       " Document(page_content='11/4/24, 19:02 Building Machine Learning Systems That Don\\'t Suck\\nhttps://www.ml.school 3/10This program is for software engineers,data scientists,data analysts,machine\\nlearning engineers,technical managers, and anyone anyone who wants to use\\nmachine learning to solve real-world problems.\\nHere are the criteria to succeed in the program:\\nYou have experience writing code. We\\'ll use Python throughout the class, but\\nyou won\\'t have any problems if you know any other language.\\nYou are familiar with basic machine learning terminology. This is not an\\nintroductory class. We\\'ll move quickly over the basics to focus on the\\nfundamental ideas that make systems work.\\nYou are ready to put in the work to succeed.\\n\"I have learned a ton from Santiago in his class and it was actually what helped inspire me\\nand get into the MLOps work that I\\'m doing now. Truly one of the most helpful online courses\\nfor doing real, full-scale machine learning.\"\\nBrian H. Hough\\nSoftware Engineer\\nWhat Will You Learn?\\nYou\\'ll come out with practical skills and insights into what it takes to\\nbuild systems that work in the real world.\\nHere is a summary of what makes this program unique:\\nYou\\'ll design and write the code to build an end-to-end machine learning\\nsystem starting from scratch.', metadata={'source': 'machine_learning.pdf', 'page': 2})]"
      ]
     },
     "execution_count": 16,
     "metadata": {},
     "output_type": "execute_result"
    }
   ],
   "source": [
    "retriever = vectorstore.as_retriever()\n",
    "retriever.invoke(\"machine learning\")"
   ]
  },
  {
   "cell_type": "code",
   "execution_count": 17,
   "metadata": {},
   "outputs": [],
   "source": [
    "from operator import itemgetter\n",
    "\n",
    "chain = (\n",
    "    {\n",
    "        \"context\": itemgetter(\"question\") | retriever,\n",
    "        \"question\": itemgetter(\"question\"),\n",
    "    }\n",
    "    | prompt\n",
    "    | model\n",
    "    | parser\n",
    ")"
   ]
  },
  {
   "cell_type": "code",
   "execution_count": 18,
   "metadata": {},
   "outputs": [
    {
     "name": "stdout",
     "output_type": "stream",
     "text": [
      "Question: What is the purpose of the course?\n",
      "Answer:  Based on the context provided, the purpose of the course appears to be to teach participants how to build machine learning systems that work in real-world scenarios. The course covers a wide range of topics, including best practices for tackling common challenges faced by machine learning engineers, how to use various techniques such as active learning and distributed training, and how to create pipelines using Amazon SageMaker and open-source tools. The course also includes live, interactive sessions where participants can ask questions and interact with the instructor and other students in real time. Additionally, the course provides lifetime access to every past and future cohort, allowing participants to learn at their own pace and benefit from updates to the program.\n",
      "\n",
      "Question: How many hours of live sessions?\n",
      "Answer: Based on the context provided, the answer to the question \"How many hours of live sessions?\" is:\n",
      "\n",
      "* Every iteration of the program gives you 18 hours of hands-on, live training spread over 3 weeks.\n",
      "* Live sessions will take place every Monday and Thursday at the same time. On Wednesdays, we'll host office hours when you can bring your questions, projects, or anything else you want to discuss.\n",
      "* The program includes a total of 18 hours of live training.\n",
      "\n",
      "Question: How many coding assignments are there in the program?\n",
      "Answer: Based on the provided context, it seems that the answer to the question \"How many coding assignments are there in the program?\" is not explicitly mentioned. However, from the context, it can be inferred that there are coding walkthroughs and live sessions where students will work on coding assignments. The instructor mentions that there are 18 hours of hands-on, live training spread over 3 weeks, and that every session is recorded, allowing students to attend live or watch the recording later. This suggests that there are multiple coding assignments throughout the program. However, without further clarification from the source text, it's difficult to provide a precise answer to this question.\n",
      "\n",
      "Question: Is there a program certificate upon completion?\n",
      "Answer: Yes, according to the document, there is a program certificate upon completion of the course. The certificate is mentioned in the following passage:\n",
      "\n",
      "\"You only pay once to join the program and get immediate access to every past, present, and future cohort. Every new iteration of the program is better than the ones before. Many students take classes once and then join a later cohort to benefit from the updates. The lifetime access removes any pressure from having to complete the program when life gets in the way.\"\n",
      "\n",
      "This suggests that upon completion of the course, participants will receive a program certificate as a recognition of their accomplishment.\n",
      "\n",
      "Question: What programming language will be used in the program?\n",
      "Answer: The answer to your question can be found on the fourth page of the PDF document:\n",
      "\n",
      "\"You have experience writing code. We'll use Python throughout the class, but you won't have any problems if you know any other language.\"\n",
      "\n",
      "So, the programming language used in the program is Python.\n",
      "\n",
      "Question: How much does the program cost?\n",
      "Answer: The answer to your question is $450. According to the context, the program costs $450, and you will get lifetime access to the program once you pay. There are no monthly or annual fees, and there are no hidden costs.\n",
      "\n"
     ]
    }
   ],
   "source": [
    "questions = [\n",
    "    \"What is the purpose of the course?\",\n",
    "    \"How many hours of live sessions?\",\n",
    "    \"How many coding assignments are there in the program?\",\n",
    "    \"Is there a program certificate upon completion?\",\n",
    "    \"What programming language will be used in the program?\",\n",
    "    \"How much does the program cost?\",\n",
    "]\n",
    "\n",
    "for question in questions:\n",
    "    print(f\"Question: {question}\")\n",
    "    print(f\"Answer: {chain.invoke({'question': question})}\")\n",
    "    print()"
   ]
  }
 ],
 "metadata": {
  "kernelspec": {
   "display_name": "Python 3",
   "language": "python",
   "name": "python3"
  },
  "language_info": {
   "codemirror_mode": {
    "name": "ipython",
    "version": 3
   },
   "file_extension": ".py",
   "mimetype": "text/x-python",
   "name": "python",
   "nbconvert_exporter": "python",
   "pygments_lexer": "ipython3",
   "version": "3.9.6"
  }
 },
 "nbformat": 4,
 "nbformat_minor": 2
}
